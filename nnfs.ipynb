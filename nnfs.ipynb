{
  "nbformat": 4,
  "nbformat_minor": 0,
  "metadata": {
    "colab": {
      "name": "nnfs.ipynb",
      "provenance": [],
      "private_outputs": true,
      "toc_visible": true,
      "authorship_tag": "ABX9TyNU7+ZZ9A0fimWn3AA0HwtK",
      "include_colab_link": true
    },
    "kernelspec": {
      "name": "python3",
      "display_name": "Python 3"
    }
  },
  "cells": [
    {
      "cell_type": "markdown",
      "metadata": {
        "id": "view-in-github",
        "colab_type": "text"
      },
      "source": [
        "<a href=\"https://colab.research.google.com/github/AnonymousPyro/NNfSiX/blob/master/nnfs.ipynb\" target=\"_parent\"><img src=\"https://colab.research.google.com/assets/colab-badge.svg\" alt=\"Open In Colab\"/></a>"
      ]
    },
    {
      "cell_type": "markdown",
      "metadata": {
        "id": "9bRN90aPP2gZ",
        "colab_type": "text"
      },
      "source": [
        "# [Neural Network from Scratch](https://nnfs.io)\n",
        "[Github Repo](https://github.com/Sentdex/NNfSiX/blob/master/Python/p001-Basic-Neuron-3-inputs.py)"
      ]
    },
    {
      "cell_type": "markdown",
      "metadata": {
        "id": "lEfba4bDQFZq",
        "colab_type": "text"
      },
      "source": [
        "## 001 Basic Neuron 3-inputs"
      ]
    },
    {
      "cell_type": "markdown",
      "metadata": {
        "id": "yZqh3GGyRjDT",
        "colab_type": "text"
      },
      "source": [
        "### Creates a basic neuron with 3 inputs.  \n",
        "[Associated YT NNFS tutorial](https://www.youtube.com/watch?v=Wo5dMEP_BbI)"
      ]
    },
    {
      "cell_type": "code",
      "metadata": {
        "id": "_yyMzWstUKPv",
        "colab_type": "code",
        "colab": {}
      },
      "source": [
        "# Inputs that are feed to the Neural Network\n",
        "inputs = [1.2, 5.1, 2.1]"
      ],
      "execution_count": 0,
      "outputs": []
    },
    {
      "cell_type": "code",
      "metadata": {
        "id": "dqLeIX3CUMme",
        "colab_type": "code",
        "colab": {}
      },
      "source": [
        "# Weights that determine the contribution of each Inputs\n",
        "weights = [3.1, 2.1, 8.7]"
      ],
      "execution_count": 0,
      "outputs": []
    },
    {
      "cell_type": "code",
      "metadata": {
        "id": "g1PhpwtGUODt",
        "colab_type": "code",
        "colab": {}
      },
      "source": [
        "# Offset\n",
        "bias = 3.0"
      ],
      "execution_count": 0,
      "outputs": []
    },
    {
      "cell_type": "code",
      "metadata": {
        "id": "3pyp2URPUQEv",
        "colab_type": "code",
        "colab": {}
      },
      "source": [
        "# Weighted Sum\n",
        "output = inputs[0]*weights[0] + inputs[1]*weights[1] + inputs[2]*weights[2] + bias"
      ],
      "execution_count": 0,
      "outputs": []
    },
    {
      "cell_type": "code",
      "metadata": {
        "id": "BY0dety6PWIM",
        "colab_type": "code",
        "colab": {}
      },
      "source": [
        "# Printing the Result of output\n",
        "print(output)"
      ],
      "execution_count": 0,
      "outputs": []
    },
    {
      "cell_type": "markdown",
      "metadata": {
        "id": "V4hE13KjSCmb",
        "colab_type": "text"
      },
      "source": [
        "## 002 Basic-Neuron-Layer"
      ]
    },
    {
      "cell_type": "markdown",
      "metadata": {
        "id": "ZKqxZ3tNSQ_W",
        "colab_type": "text"
      },
      "source": [
        "### Creates a simple layer of neurons, with 4 inputs.  \n",
        "[Associated YT NNFS tutorial](https://www.youtube.com/watch?v=lGLto9Xd7bU)"
      ]
    },
    {
      "cell_type": "code",
      "metadata": {
        "id": "A0cfQVswUWE8",
        "colab_type": "code",
        "colab": {}
      },
      "source": [
        "# Inputs that are feed to the Neural Network\n",
        "inputs = [1.0, 2.0, 3.0, 2.5]"
      ],
      "execution_count": 0,
      "outputs": []
    },
    {
      "cell_type": "code",
      "metadata": {
        "id": "jwJDi9i7UYUn",
        "colab_type": "code",
        "colab": {}
      },
      "source": [
        "# Weights that determine the contribution of each Inputs\n",
        "\n",
        "# First Layer (Contains 3 Neurons)\n",
        "# 1st Neuron Weights\n",
        "weights1 = [0.2, 0.8, -0.5, 1.0]\n",
        "# 2nd Neuron Weights\n",
        "weights2 = [0.5, -0.91, 0.26, -0.5]\n",
        "# 3rd Neuron Weights\n",
        "weights3 = [-0.26, -0.27, 0.17, 0.87]"
      ],
      "execution_count": 0,
      "outputs": []
    },
    {
      "cell_type": "code",
      "metadata": {
        "id": "t6ebX7k_UZPW",
        "colab_type": "code",
        "colab": {}
      },
      "source": [
        "# Offsets\n",
        "\n",
        "# 1st Neuron offset\n",
        "bias1 = 2.0\n",
        "# 2nd Neuron offset\n",
        "bias2 = 3.0\n",
        "# 3rd Neuron offset\n",
        "bias3 = 0.5"
      ],
      "execution_count": 0,
      "outputs": []
    },
    {
      "cell_type": "code",
      "metadata": {
        "id": "VobeMgaMUtlI",
        "colab_type": "code",
        "colab": {}
      },
      "source": [
        "# Weighted sum\n",
        "output = [inputs[0]*weights1[0] + inputs[1]*weights1[1] + inputs[2]*weights1[2] + inputs[3]*weights1[3] + bias1,\n",
        "          inputs[0]*weights2[0] + inputs[1]*weights2[1] + inputs[2]*weights2[2] + inputs[3]*weights2[3] + bias2,\n",
        "          inputs[0]*weights3[0] + inputs[1]*weights3[1] + inputs[2]*weights3[2] + inputs[3]*weights3[3] + bias3]"
      ],
      "execution_count": 0,
      "outputs": []
    },
    {
      "cell_type": "code",
      "metadata": {
        "id": "s2ufYl0ESbby",
        "colab_type": "code",
        "colab": {}
      },
      "source": [
        "# Printing the output\n",
        "print(output)"
      ],
      "execution_count": 0,
      "outputs": []
    },
    {
      "cell_type": "markdown",
      "metadata": {
        "id": "Ed0ZOS1LSiw6",
        "colab_type": "text"
      },
      "source": [
        "## 003 Dot-Product"
      ]
    },
    {
      "cell_type": "markdown",
      "metadata": {
        "id": "FWwBPCwuSyV6",
        "colab_type": "text"
      },
      "source": [
        "### Doing dot product with a layer of neurons and multiple inputs.  \n",
        "[Associated YT NNFS tutorial](https://www.youtube.com/watch?v=tMrbN67U9d4)"
      ]
    },
    {
      "cell_type": "code",
      "metadata": {
        "id": "GnQd5h9QS7gX",
        "colab_type": "code",
        "colab": {}
      },
      "source": [
        "# Importing numpy module\n",
        "import numpy as np"
      ],
      "execution_count": 0,
      "outputs": []
    },
    {
      "cell_type": "code",
      "metadata": {
        "id": "hx42PzFZU6l-",
        "colab_type": "code",
        "colab": {}
      },
      "source": [
        "# Inputs that are feed to the Neural Network\n",
        "inputs = [1.0, 2.0, 3.0, 2.5]"
      ],
      "execution_count": 0,
      "outputs": []
    },
    {
      "cell_type": "code",
      "metadata": {
        "id": "RsjIKZD0U_4G",
        "colab_type": "code",
        "colab": {}
      },
      "source": [
        "# Weights of 3 Neurons but in a (3,4) matrix\n",
        "# Use array.shape attribute to see the attribute\n",
        "weights = [[0.2, 0.8, -0.5, 1.0],\n",
        "           [0.5, -0.91, 0.26, -0.5],\n",
        "           [-0.26, -0.27, 0.17, 0.87]]"
      ],
      "execution_count": 0,
      "outputs": []
    },
    {
      "cell_type": "code",
      "metadata": {
        "id": "BPt-MGxzVHwQ",
        "colab_type": "code",
        "colab": {}
      },
      "source": [
        "# Biases of 3 Neurons in a (4,) vector\n",
        "# Use array.shape attribute to see the attribute\n",
        "biases = [2.0, 3.0, 0.5]"
      ],
      "execution_count": 0,
      "outputs": []
    },
    {
      "cell_type": "code",
      "metadata": {
        "id": "JLS-8ZzYTD5i",
        "colab_type": "code",
        "colab": {}
      },
      "source": [
        "# Calculating the weighted sum (or multiplying the weights and inputs and adding biases)\n",
        "output = np.dot(weights, inputs) + biases"
      ],
      "execution_count": 0,
      "outputs": []
    },
    {
      "cell_type": "code",
      "metadata": {
        "id": "NJDByiw7VaYZ",
        "colab_type": "code",
        "colab": {}
      },
      "source": [
        "# Printing the output\n",
        "print(output)"
      ],
      "execution_count": 0,
      "outputs": []
    }
  ]
}